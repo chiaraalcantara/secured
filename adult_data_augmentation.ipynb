{
 "cells": [
  {
   "cell_type": "code",
   "execution_count": 3,
   "metadata": {},
   "outputs": [
    {
     "name": "stderr",
     "output_type": "stream",
     "text": [
      "c:\\Users\\sahil\\miniforge3\\envs\\secured_project\\lib\\site-packages\\tensorboard\\compat\\tensorflow_stub\\dtypes.py:541: FutureWarning: Passing (type, 1) or '1type' as a synonym of type is deprecated; in a future version of numpy, it will be understood as (type, (1,)) / '(1,)type'.\n",
      "  _np_qint8 = np.dtype([(\"qint8\", np.int8, 1)])\n",
      "c:\\Users\\sahil\\miniforge3\\envs\\secured_project\\lib\\site-packages\\tensorboard\\compat\\tensorflow_stub\\dtypes.py:542: FutureWarning: Passing (type, 1) or '1type' as a synonym of type is deprecated; in a future version of numpy, it will be understood as (type, (1,)) / '(1,)type'.\n",
      "  _np_quint8 = np.dtype([(\"quint8\", np.uint8, 1)])\n",
      "c:\\Users\\sahil\\miniforge3\\envs\\secured_project\\lib\\site-packages\\tensorboard\\compat\\tensorflow_stub\\dtypes.py:543: FutureWarning: Passing (type, 1) or '1type' as a synonym of type is deprecated; in a future version of numpy, it will be understood as (type, (1,)) / '(1,)type'.\n",
      "  _np_qint16 = np.dtype([(\"qint16\", np.int16, 1)])\n",
      "c:\\Users\\sahil\\miniforge3\\envs\\secured_project\\lib\\site-packages\\tensorboard\\compat\\tensorflow_stub\\dtypes.py:544: FutureWarning: Passing (type, 1) or '1type' as a synonym of type is deprecated; in a future version of numpy, it will be understood as (type, (1,)) / '(1,)type'.\n",
      "  _np_quint16 = np.dtype([(\"quint16\", np.uint16, 1)])\n",
      "c:\\Users\\sahil\\miniforge3\\envs\\secured_project\\lib\\site-packages\\tensorboard\\compat\\tensorflow_stub\\dtypes.py:545: FutureWarning: Passing (type, 1) or '1type' as a synonym of type is deprecated; in a future version of numpy, it will be understood as (type, (1,)) / '(1,)type'.\n",
      "  _np_qint32 = np.dtype([(\"qint32\", np.int32, 1)])\n",
      "c:\\Users\\sahil\\miniforge3\\envs\\secured_project\\lib\\site-packages\\tensorboard\\compat\\tensorflow_stub\\dtypes.py:550: FutureWarning: Passing (type, 1) or '1type' as a synonym of type is deprecated; in a future version of numpy, it will be understood as (type, (1,)) / '(1,)type'.\n",
      "  np_resource = np.dtype([(\"resource\", np.ubyte, 1)])\n"
     ]
    }
   ],
   "source": [
    "from tensorflow.keras.preprocessing.image import ImageDataGenerator, array_to_img, img_to_array, load_img\n",
    "import os\n",
    "\n",
    "\"\"\"\n",
    "Sahil Here\n",
    "\n",
    "What I have so far is a function that applies 5 random transformations to an image found in a folder\n",
    "And a function that I wrote that does the 5 transforms thing for each folder in the adult dataset\n",
    "(each folder is one person)\n",
    "\n",
    "For another dataset the way the functions move around the folders is probably gonna have to be slightly different \n",
    "and the code would have to be tweaked\n",
    "\n",
    "let me know if you have any questions or if something isn't working\n",
    "\"\"\"\n",
    "def augment_image(folder):\n",
    "    datagen = ImageDataGenerator(\n",
    "        rotation_range=80,\n",
    "        width_shift_range=0.3,\n",
    "        height_shift_range=0.3,\n",
    "        shear_range=0.1,\n",
    "        zoom_range=0.3,\n",
    "        horizontal_flip=True,\n",
    "        brightness_range=[0.5, 1.5],\n",
    "        fill_mode='nearest')\n",
    "    img_file = None\n",
    "\n",
    "    for entry in os.listdir(folder): # Look for the image folder\n",
    "        c_path = os.path.join(folder, entry)\n",
    "        if os.path.isfile(c_path) and (entry.lower().endswith('.jpeg') or entry.lower().endswith('.jpg')):\n",
    "            img_file = c_path\n",
    "            break\n",
    "\n",
    "    if img_file is None:\n",
    "        print(\"Could not find image file in folder that was given\")\n",
    "        return\n",
    "    \n",
    "    img = load_img(img_file)\n",
    "    x = img_to_array(img)\n",
    "    x = x.reshape((1,) + x.shape)\n",
    "    i = 0\n",
    "    for batch in datagen.flow(x, batch_size=1, save_to_dir=folder, save_prefix='augment', save_format='jpeg'):\n",
    "        i = i + 1\n",
    "        if i >= 5: # 5 Transformations\n",
    "            break\n",
    "\n",
    "def adult_augmentation(data_path):\n",
    "    datagen = ImageDataGenerator(\n",
    "        rotation_range=80,\n",
    "        width_shift_range=0.3,\n",
    "        height_shift_range=0.3,\n",
    "        shear_range=0.1,\n",
    "        zoom_range=0.3,\n",
    "        horizontal_flip=True,\n",
    "        brightness_range=[0.5, 1.5],\n",
    "        fill_mode='nearest')\n",
    "    \n",
    "    entries = os.listdir(data_path)\n",
    "    folders = [entry for entry in entries if os.path.isdir(os.path.join(data_path, entry))]\n",
    "    for folder in folders:\n",
    "        print(os.path.join(data_path, folder))\n",
    "        for entry in os.listdir(os.path.join(data_path, folder)):\n",
    "            path = os.path.join(data_path, folder, entry)\n",
    "            if os.path.isfile(path) and (entry.lower().endswith('.jpeg') or entry.lower().endswith('.jpg')):\n",
    "                print(path)\n",
    "                \n",
    "                img = load_img(path)\n",
    "                x = img_to_array(img)\n",
    "                x = x.reshape((1,) + x.shape)\n",
    "                i = 0\n",
    "                for batch in datagen.flow(x, batch_size=1, save_to_dir=os.path.join(data_path, folder), save_prefix='augment', save_format='jpeg'):\n",
    "                    i = i + 1\n",
    "                    if i >= 5:\n",
    "                        break\n",
    "                break"
   ]
  },
  {
   "cell_type": "code",
   "execution_count": 4,
   "metadata": {},
   "outputs": [],
   "source": [
    "# Trying it out on one guy\n",
    "augment_image(r\"C:\\Users\\sahil\\Documents\\secured\\archive\\lfw-deepfunneled\\lfw-deepfunneled\\Aaron_Eckhart\")"
   ]
  },
  {
   "cell_type": "code",
   "execution_count": null,
   "metadata": {},
   "outputs": [],
   "source": [
    "# Applying transformation to whole adult data set. Worked on my side so far\n",
    "adult_augmentation(r\"C:\\Users\\sahil\\Documents\\secured\\archive\\lfw-deepfunneled\\lfw-deepfunneled\")"
   ]
  }
 ],
 "metadata": {
  "kernelspec": {
   "display_name": "secured_project",
   "language": "python",
   "name": "python3"
  },
  "language_info": {
   "codemirror_mode": {
    "name": "ipython",
    "version": 3
   },
   "file_extension": ".py",
   "mimetype": "text/x-python",
   "name": "python",
   "nbconvert_exporter": "python",
   "pygments_lexer": "ipython3",
   "version": "3.7.12"
  }
 },
 "nbformat": 4,
 "nbformat_minor": 2
}
