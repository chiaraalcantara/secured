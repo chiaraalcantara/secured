{
 "cells": [
  {
   "cell_type": "code",
   "execution_count": null,
   "metadata": {
    "vscode": {
     "languageId": "plaintext"
    }
   },
   "outputs": [],
   "source": [
    "!pip install deepface\n",
    "!pip install dlib\n",
    "!pip install labelme"
   ]
  },
  {
   "cell_type": "code",
   "execution_count": null,
   "metadata": {
    "vscode": {
     "languageId": "plaintext"
    }
   },
   "outputs": [],
   "source": [
    "from deepface import DeepFace\n",
    "import dlib\n",
    "import cv2\n",
    "import matplotlib.pyplot as plt\n",
    "import os\n",
    "import json\n",
    "import cv2"
   ]
  },
  {
   "cell_type": "code",
   "execution_count": null,
   "metadata": {
    "vscode": {
     "languageId": "plaintext"
    }
   },
   "outputs": [],
   "source": [
    "from google.colab import drive\n",
    "drive.mount('/content/drive')\n",
    "folder_path = '/content/drive/MyDrive/training_data'"
   ]
  },
  {
   "cell_type": "code",
   "execution_count": null,
   "metadata": {
    "vscode": {
     "languageId": "plaintext"
    }
   },
   "outputs": [],
   "source": [
    "# get data\n",
    "files = []\n",
    "\n",
    "for root, dirs, file_names in os.walk(folder_path):\n",
    "  for file_name in file_names:\n",
    "    file_path = os.path.join(root, file_name)\n",
    "    files.append(file_path)\n",
    "\n",
    "print(f'Total number of files found: {len(files)}')\n",
    "print(files)"
   ]
  },
  {
   "cell_type": "code",
   "execution_count": null,
   "metadata": {
    "vscode": {
     "languageId": "plaintext"
    }
   },
   "outputs": [],
   "source": [
    "from PIL import Image, ImageDraw\n",
    "import numpy as np\n",
    "\n",
    "images = []\n",
    "labels = []\n",
    "\n",
    "for file in files:\n",
    "  img = Image.open(file)\n",
    "  img_array = np.array(img)\n",
    "  images.append(img_array)\n",
    "  label = file.split('/')[-1]\n",
    "  labels.append(label)"
   ]
  },
  {
   "cell_type": "code",
   "execution_count": null,
   "metadata": {
    "vscode": {
     "languageId": "plaintext"
    }
   },
   "outputs": [],
   "source": [
    "detector = dlib.get_frontal_face_detector()\n",
    "for img_path in files[:5]:\n",
    "  # load image\n",
    "  image = cv2.imread(img_path)\n",
    "  # convert to grayscale\n",
    "  gray = cv2.cvtColor(image, cv2.COLOR_BGR2GRAY)\n",
    "  # detect faces\n",
    "  faces = detector(gray)\n",
    "  # label the images\n",
    "  file_name = img_path.split('/')[-1]\n",
    "  label = file_name.split('.png')[-2]\n",
    "  modified_label = f'{label}_detected.png'\n",
    "  labels.append(modified_label)\n",
    "  # loop through detected faces\n",
    "  for face in faces:\n",
    "    x, y, w, h = (face.left(), face.top(), face.width(), face.height())\n",
    "    cv2.rectangle(image, (x, y), (x + w, y + h), (0, 255, 0), 2)\n",
    "    cv2.putText(image, modified_label, (10, 30), cv2.FONT_HERSHEY_SIMPLEX, 1, (255, 0, 0), 2)\n",
    "    plt.imshow(cv2.cvtColor(image, cv2.COLOR_BGR2RGB))\n",
    "    plt.axis('off')\n",
    "    plt.show()"
   ]
  },
  {
   "cell_type": "code",
   "execution_count": null,
   "metadata": {
    "vscode": {
     "languageId": "plaintext"
    }
   },
   "outputs": [],
   "source": [
    "# NEW CODE\n",
    "import os\n",
    "import cv2\n",
    "from deepface import DeepFace\n",
    "\n",
    "# Define the path to your dataset\n",
    "dataset_path = '/content/drive/MyDrive/original_data'\n",
    "\n",
    "# Get the list of known individuals\n",
    "known_people = os.listdir(dataset_path)\n",
    "\n",
    "# Create a dictionary to hold the known images and their labels\n",
    "known_images = {}\n",
    "\n",
    "# Load known images\n",
    "for person in known_people:\n",
    "    person_path = os.path.join(dataset_path, person)\n",
    "    images = os.listdir(person_path)\n",
    "    known_images[person] = [os.path.join(person_path, image) for image in images]\n"
   ]
  },
  {
   "cell_type": "code",
   "execution_count": null,
   "metadata": {
    "vscode": {
     "languageId": "plaintext"
    }
   },
   "outputs": [],
   "source": [
    "import os\n",
    "import pandas as pd\n",
    "from deepface import DeepFace  # Ensure you have imported DeepFace\n",
    "\n",
    "def recognize_faces(random_pictures_folder, dataset_path):\n",
    "    results = []\n",
    "    \n",
    "    for image_file in os.listdir(random_pictures_folder):\n",
    "        image_path = os.path.join(random_pictures_folder, image_file)\n",
    "        try:\n",
    "            # Analyze the image\n",
    "            result = DeepFace.find(img_path=image_path, db_path=dataset_path)\n",
    "            \n",
    "            # Print the result to check its structure\n",
    "            print(f\"Result for {image_file}: {result}\")\n",
    "\n",
    "            # Check if result is not empty and is a list\n",
    "            if isinstance(result, list) and len(result) > 0:  # Check if result is a list and not empty\n",
    "                # Assuming the first element of the list is a DataFrame\n",
    "                identity = result[0]['identity']  # Access the first match's identity\n",
    "                \n",
    "                # Check if identity is a Series\n",
    "                if isinstance(identity, pd.Series):\n",
    "                    recognized_person = identity.iloc[0].split('/')[-2]  # Extract the label from the Series\n",
    "                else:\n",
    "                    recognized_person = identity.split('/')[-2]  # Regular string case\n",
    "\n",
    "                results.append((image_file, recognized_person))\n",
    "            else:\n",
    "                results.append((image_file, \"Unknown\"))\n",
    "\n",
    "        except Exception as e:\n",
    "            results.append((image_file, f\"Error: {str(e)}\"))\n",
    "\n",
    "    return results\n",
    "\n",
    "\n",
    "# Update these paths to your actual dataset and random images folder\n",
    "random_pictures_folder = '/content/drive/MyDrive/random_data'  # Replace with your random images folder path\n",
    "dataset_path = '/content/drive/MyDrive/original_data'  # Set your dataset path\n",
    "\n",
    "recognition_results = recognize_faces(random_pictures_folder, dataset_path)\n",
    "\n",
    "# Print results\n",
    "for image, recognized_person in recognition_results:\n",
    "    print(f\"{image}: {recognized_person}\")\n"
   ]
  },
  {
   "cell_type": "code",
   "execution_count": null,
   "metadata": {
    "vscode": {
     "languageId": "plaintext"
    }
   },
   "outputs": [],
   "source": [
    "def calculate_accuracy(predictions, ground_truth):\n",
    "    correct = sum(1 for p, gt in zip(predictions, ground_truth) if p == gt)\n",
    "    accuracy = correct / len(ground_truth) * 100\n",
    "    return accuracy\n",
    "\n",
    "# Assume ground_truth is a list of labels corresponding to your random pictures\n",
    "ground_truth = ['african', 'african', 'african', 'caucasian', 'caucasian', 'indian', 'indian']  # Fill this with the true labels for your random images\n",
    "\n",
    "# Extract predicted labels from recognition_results\n",
    "predicted_labels = [result[1] for result in recognition_results]\n",
    "\n",
    "# Calculate accuracy\n",
    "accuracy = calculate_accuracy(predicted_labels, ground_truth)\n",
    "print(f\"Accuracy: {accuracy:.2f}%\")\n"
   ]
  },
  {
   "cell_type": "code",
   "execution_count": null,
   "metadata": {
    "vscode": {
     "languageId": "plaintext"
    }
   },
   "outputs": [],
   "source": [
    "# face matching and finding face in database\n",
    "# we can do custom face detection - by setting detector_backend\n",
    "result = DeepFace.verify(img1_path=\"/content/data/Caucasian_36_37.png\", img2_path=\"/content/data/Caucasian_36_73.png\")\n",
    "print(json.dumps(result, indent = 2))"
   ]
  },
  {
   "cell_type": "code",
   "execution_count": null,
   "metadata": {
    "vscode": {
     "languageId": "plaintext"
    }
   },
   "outputs": [],
   "source": [
    "# finding face in db\n",
    "dfs = DeepFace.find(img_path=\"/content/data/Asian_58_1.png\", db_path=\"/content/data\")\n",
    "print(dfs)"
   ]
  }
 ],
 "metadata": {
  "language_info": {
   "name": "python"
  }
 },
 "nbformat": 4,
 "nbformat_minor": 2
}
